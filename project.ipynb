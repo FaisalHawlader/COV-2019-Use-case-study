{
 "cells": [
  {
   "cell_type": "code",
   "execution_count": 2,
   "metadata": {},
   "outputs": [],
   "source": [
    "import warnings\n",
    "warnings.filterwarnings('ignore')\n",
    "\n",
    "#Python Native Libraries\n",
    "import matplotlib.pyplot as plt\n",
    "import pandas as pd\n",
    "import numpy as np\n",
    "import datetime\n",
    "from timeit import default_timer as timer\n",
    "\n",
    "#Spark Libraries\n",
    "import pyspark.sql.functions as fn\n",
    "from pyspark.sql import SparkSession\n",
    "from pyspark.sql import Window\n",
    "from pyspark.sql.functions import pandas_udf, PandasUDFType\n",
    "from pyspark.sql.types import StringType, StructField, StructType, TimestampType, IntegerType\n",
    "\n",
    "#ML Libraries\n",
    "from fbprophet import Prophet\n",
    "from pyspark.ml.regression import RandomForestRegressor\n",
    "from pyspark.ml.tuning import ParamGridBuilder, CrossValidator\n",
    "from pyspark.ml.evaluation import RegressionEvaluator\n",
    "from pyspark.ml.feature import VectorAssembler, PCA, OneHotEncoderEstimator, StringIndexer"
   ]
  },
  {
   "cell_type": "code",
   "execution_count": 3,
   "metadata": {},
   "outputs": [],
   "source": [
    "#Initializing or getting spark session\n",
    "spark = SparkSession.builder.appName(\"COVID Project\")\\\n",
    "                            .master(\"local[*]\")\\\n",
    "                            .config('spark.sql.execution.arrow.enable', 'true').getOrCreate()"
   ]
  },
  {
   "cell_type": "markdown",
   "metadata": {},
   "source": [
    "### Reading and Preprocessing Dataset"
   ]
  },
  {
   "cell_type": "code",
   "execution_count": 4,
   "metadata": {},
   "outputs": [],
   "source": [
    "#Dataset is read directly from the url using Pandas read_csv function\n",
    "dataset = pd.read_csv(\"https://opendata.ecdc.europa.eu/covid19/casedistribution/csv\")"
   ]
  },
  {
   "cell_type": "code",
   "execution_count": 5,
   "metadata": {},
   "outputs": [],
   "source": [
    "#As data column can be in any datatype, it might create issues while converting into Spark Dataframes\n",
    "#So, converting all columns in String Datatype\n",
    "dataset[['dateRep', 'day', 'month', 'year', 'cases', 'deaths',\n",
    "       'countriesAndTerritories', 'geoId', 'countryterritoryCode',\n",
    "       'popData2019', 'continentExp',\n",
    "       'Cumulative_number_for_14_days_of_COVID-19_cases_per_100000']] = dataset[['dateRep', 'day', 'month', \n",
    "       'year', 'cases', 'deaths', 'countriesAndTerritories', 'geoId', 'countryterritoryCode',\n",
    "       'popData2019', 'continentExp',\n",
    "       'Cumulative_number_for_14_days_of_COVID-19_cases_per_100000']].astype(str)"
   ]
  },
  {
   "cell_type": "code",
   "execution_count": 6,
   "metadata": {},
   "outputs": [],
   "source": [
    "#Converting Pandas df to Spark Dataframe\n",
    "data_df = spark.createDataFrame(dataset)"
   ]
  },
  {
   "cell_type": "code",
   "execution_count": 7,
   "metadata": {},
   "outputs": [
    {
     "data": {
      "text/plain": [
       "33059"
      ]
     },
     "execution_count": 7,
     "metadata": {},
     "output_type": "execute_result"
    }
   ],
   "source": [
    "#Number of records in dataset\n",
    "data_df.count()"
   ]
  },
  {
   "cell_type": "code",
   "execution_count": 8,
   "metadata": {},
   "outputs": [
    {
     "data": {
      "text/plain": [
       "210"
      ]
     },
     "execution_count": 8,
     "metadata": {},
     "output_type": "execute_result"
    }
   ],
   "source": [
    "#Countries for which data is present in dataset\n",
    "data_df.select(\"countriesAndTerritories\").distinct().count()"
   ]
  },
  {
   "cell_type": "code",
   "execution_count": 9,
   "metadata": {},
   "outputs": [],
   "source": [
    "#Renaming columns as per our need\n",
    "data_df_renamed = data_df.withColumnRenamed(\"dateRep\", \"date\")\\\n",
    "                         .withColumnRenamed(\"countriesAndTerritories\", \"country\")\\\n",
    "                         .withColumnRenamed(\"geoId\",\"countryGeoId\")\\\n",
    "                         .withColumnRenamed(\"countryterritoryCode\", \"countryCode\")\\\n",
    "                         .withColumnRenamed(\"popData2019\", \"totalPopulation\")\\\n",
    "                         .withColumnRenamed(\"continentExp\", \"continent\")\\\n",
    "                         .withColumnRenamed(\"Cumulative_number_for_14_days_of_COVID-19_cases_per_100000\", \"casesPer100k\")"
   ]
  },
  {
   "cell_type": "code",
   "execution_count": 10,
   "metadata": {},
   "outputs": [],
   "source": [
    "#Converting datatypes of columns to appropriate datatype as per its column value\n",
    "data_df_types = data_df_renamed\\\n",
    "                    .withColumn(\"date\", fn.from_unixtime(fn.unix_timestamp(\"date\",\"dd/MM/yyyy\")).cast(\"Date\"))\\\n",
    "                    .withColumn(\"day\", fn.col(\"day\").cast(\"Integer\"))\\\n",
    "                    .withColumn(\"month\", fn.col(\"month\").cast(\"Integer\"))\\\n",
    "                    .withColumn(\"cases\", fn.col(\"cases\").cast(\"Integer\"))\\\n",
    "                    .withColumn(\"year\", fn.col(\"year\").cast(\"Integer\"))\\\n",
    "                    .withColumn(\"deaths\", fn.col(\"deaths\").cast(\"Integer\"))\\\n",
    "                    .withColumn(\"country\", fn.col(\"country\").cast(\"String\"))\\\n",
    "                    .withColumn(\"countryGeoId\", fn.col(\"countryGeoId\").cast(\"String\"))\\\n",
    "                    .withColumn(\"totalPopulation\", fn.col(\"totalPopulation\").cast(\"Integer\"))\\\n",
    "                    .withColumn(\"continent\", fn.col(\"continent\").cast(\"String\"))\\\n",
    "                    .withColumn(\"casesPer100k\", fn.round(fn.col(\"casesPer100k\"), 2).cast(\"Double\"))"
   ]
  },
  {
   "cell_type": "markdown",
   "metadata": {},
   "source": [
    "### Visualization of Dataset"
   ]
  },
  {
   "cell_type": "code",
   "execution_count": 11,
   "metadata": {},
   "outputs": [
    {
     "data": {
      "image/png": "[encoded data removed]",
      "text/plain": [
       "<Figure size 432x288 with 1 Axes>"
      ]
     },
     "metadata": {
      "needs_background": "light"
     },
     "output_type": "display_data"
    }
   ],
   "source": [
    "#Looking at Continent Wise Trend\n",
    "data_df_aggr = data_df_types.groupBy(\"continent\",\"date\")\\\n",
    "                            .agg(fn.round(fn.avg(\"casesPer100k\"), 2).alias(\"casesPer100k\"))\n",
    "\n",
    "data_filter = data_df_aggr.where(fn.col(\"continent\") == \"Europe\")\n",
    "\n",
    "pd_df = data_filter.toPandas()\n",
    "\n",
    "plt.xlabel(\"Date\")\n",
    "plt.ylabel(\"Cases Per 100k\")\n",
    "plt.title(\"Continent Level Scatter Chart\")\n",
    "plt.plot(pd_df[\"date\"], pd_df[\"casesPer100k\"],\"ro\")\n",
    "plt.gcf().autofmt_xdate()\n",
    "plt.savefig(\"output/Chart1.png\")\n",
    "plt.show()"
   ]
  },
  {
   "cell_type": "code",
   "execution_count": 12,
   "metadata": {},
   "outputs": [
    {
     "data": {
      "image/png": "[encoded data removed]",
      "text/plain": [
       "<Figure size 432x288 with 1 Axes>"
      ]
     },
     "metadata": {
      "needs_background": "light"
     },
     "output_type": "display_data"
    }
   ],
   "source": [
    "#Looking at Country wise trend\n",
    "data_df_filter = data_df_types.where((fn.col(\"country\") == \"China\"))\n",
    "\n",
    "pd_df = data_df_filter.toPandas()\n",
    "\n",
    "plt.plot(pd_df[\"date\"], pd_df[\"casesPer100k\"])\n",
    "plt.gcf().autofmt_xdate()\n",
    "plt.xlabel(\"Date\")\n",
    "plt.ylabel(\"Cases Per 100k\")\n",
    "plt.title(\"Country Level Line Chart\")\n",
    "plt.savefig(\"output/Chart2.png\")\n",
    "plt.show()"
   ]
  },
  {
   "cell_type": "code",
   "execution_count": 13,
   "metadata": {},
   "outputs": [
    {
     "data": {
      "image/png": "[encoded data removed]",
      "text/plain": [
       "<Figure size 432x288 with 1 Axes>"
      ]
     },
     "metadata": {
      "needs_background": "light"
     },
     "output_type": "display_data"
    }
   ],
   "source": [
    "#Looking at Country wise trend for deaths\n",
    "data_df_filter = data_df_types.where((fn.col(\"country\") == \"India\"))\n",
    "\n",
    "pd_df = data_df_filter.select(\"date\", \"deaths\").toPandas()\n",
    "\n",
    "plt.plot(pd_df[\"date\"], pd_df[\"deaths\"])\n",
    "plt.gcf().autofmt_xdate()\n",
    "plt.xlabel(\"Date\")\n",
    "plt.ylabel(\"Deaths\")\n",
    "plt.title(\"Country Level Deaths\")\n",
    "plt.savefig(\"output/Chart3.png\")\n",
    "plt.show()"
   ]
  },
  {
   "cell_type": "markdown",
   "metadata": {},
   "source": [
    "### Analyzing Data"
   ]
  },
  {
   "cell_type": "code",
   "execution_count": 14,
   "metadata": {},
   "outputs": [],
   "source": [
    "#Cumulative average is taken to get better results\n",
    "#Firstly, getting dailyCases column using casesPer100k * (totalPopulation/1000000)\n",
    "data_new = data_df_types.withColumn(\"dailyCases\", \n",
    "                                    (fn.col(\"casesPer100k\")*(fn.col(\"totalPopulation\")/1000000)).cast(\"Integer\"))"
   ]
  },
  {
   "cell_type": "code",
   "execution_count": 15,
   "metadata": {},
   "outputs": [
    {
     "name": "stdout",
     "output_type": "stream",
     "text": [
      "+----------+---------+\n",
      "|New Deaths|New Cases|\n",
      "+----------+---------+\n",
      "|      6714|   293699|\n",
      "+----------+---------+\n",
      "\n"
     ]
    }
   ],
   "source": [
    "#New cases, Deaths\n",
    "max_date = data_new.agg(fn.max(\"date\")).collect()[0][0]\n",
    "\n",
    "data_result_1 = data_new.where(fn.col(\"date\") == max_date)\\\n",
    "                        .agg(fn.sum(\"deaths\").alias(\"New Deaths\"), \n",
    "                             fn.sum(\"cases\").cast(\"Integer\").alias(\"New Cases\"))\n",
    "\n",
    "data_result_1.show()"
   ]
  },
  {
   "cell_type": "code",
   "execution_count": 16,
   "metadata": {},
   "outputs": [
    {
     "name": "stdout",
     "output_type": "stream",
     "text": [
      "+------------+-----------+\n",
      "|Total Deaths|Total Cases|\n",
      "+------------+-----------+\n",
      "|      666857|   17005983|\n",
      "+------------+-----------+\n",
      "\n"
     ]
    }
   ],
   "source": [
    "#Total deaths, total cases till now\n",
    "data_result_2 = data_new.agg(fn.sum(\"deaths\").alias(\"Total Deaths\"), fn.sum(\"cases\").alias(\"Total Cases\"))\n",
    "\n",
    "data_result_2.show()"
   ]
  },
  {
   "cell_type": "code",
   "execution_count": 17,
   "metadata": {},
   "outputs": [
    {
     "name": "stdout",
     "output_type": "stream",
     "text": [
      "+------------------------+-----------+\n",
      "|country                 |Total Cases|\n",
      "+------------------------+-----------+\n",
      "|United_States_of_America|5603856    |\n",
      "|Brazil                  |3165905    |\n",
      "|India                   |1786839    |\n",
      "|Russia                  |1109625    |\n",
      "|South_Africa            |561928     |\n",
      "|Peru                    |517218     |\n",
      "|Mexico                  |513685     |\n",
      "|Chile                   |472941     |\n",
      "|United_Kingdom          |416968     |\n",
      "|Iran                    |395690     |\n",
      "+------------------------+-----------+\n",
      "\n"
     ]
    }
   ],
   "source": [
    "#Getting top 10 countries with respect to total number of cases\n",
    "data_result_3 = data_new.groupBy(\"country\")\\\n",
    "                        .agg(fn.sum(\"dailyCases\").alias(\"Total Cases\"))\\\n",
    "                        .orderBy(\"Total Cases\", ascending = False)\\\n",
    "                        .limit(10)\n",
    "\n",
    "data_result_3.show(truncate = False)"
   ]
  },
  {
   "cell_type": "code",
   "execution_count": 18,
   "metadata": {},
   "outputs": [
    {
     "name": "stdout",
     "output_type": "stream",
     "text": [
      "+-----+----+------------------------+-----------------+----+\n",
      "|month|year|country                 |monthlyCasesCount|rank|\n",
      "+-----+----+------------------------+-----------------+----+\n",
      "|7    |2020|United_States_of_America|2320959          |1   |\n",
      "|7    |2020|Brazil                  |1564734          |2   |\n",
      "|7    |2020|India                   |1152392          |3   |\n",
      "|6    |2020|Brazil                  |1102222          |1   |\n",
      "|6    |2020|United_States_of_America|1002645          |2   |\n",
      "|6    |2020|India                   |443702           |3   |\n",
      "|5    |2020|United_States_of_America|1077369          |1   |\n",
      "|5    |2020|Brazil                  |428155           |2   |\n",
      "|5    |2020|Russia                  |389049           |3   |\n",
      "|4    |2020|United_States_of_America|1112362          |1   |\n",
      "|4    |2020|Spain                   |205472           |2   |\n",
      "|4    |2020|United_Kingdom          |173060           |3   |\n",
      "|3    |2020|Italy                   |93153            |1   |\n",
      "|3    |2020|United_States_of_America|90494            |2   |\n",
      "|3    |2020|Spain                   |79824            |3   |\n",
      "+-----+----+------------------------+-----------------+----+\n",
      "only showing top 15 rows\n",
      "\n"
     ]
    }
   ],
   "source": [
    "#Getting top 3 countries as per month with respect to total cases happened in that month\n",
    "data_temp_4_1 = data_new.groupBy(\"month\", \"year\", \"country\")\\\n",
    "                        .agg(fn.sum(\"dailyCases\").alias(\"monthlyCasesCount\"))\n",
    "\n",
    "data_temp_4_2 = data_temp_4_1.na.drop()\n",
    "\n",
    "window = Window.partitionBy(\"year\", \"month\").orderBy(fn.desc(\"monthlyCasesCount\"))\n",
    "\n",
    "data_result_4 = data_temp_4_2.withColumn(\"rank\", fn.rank().over(window))\\\n",
    "                             .where(\"rank <= 3\")\\\n",
    "                             .orderBy(fn.desc(\"year\"), fn.desc(\"month\"), \"rank\")\n",
    "\n",
    "data_result_4.show(15, False)"
   ]
  },
  {
   "cell_type": "code",
   "execution_count": 19,
   "metadata": {},
   "outputs": [
    {
     "name": "stdout",
     "output_type": "stream",
     "text": [
      "+----+-----+-----------------+\n",
      "|year|month|monthlyTotalCases|\n",
      "+----+-----+-----------------+\n",
      "|2020|    7|          8676429|\n",
      "|2020|    6|          5394066|\n",
      "|2020|    5|          3741741|\n",
      "|2020|    4|          3044653|\n",
      "|2020|    3|           526174|\n",
      "|2020|    2|           104028|\n",
      "|2020|    1|             3601|\n",
      "+----+-----+-----------------+\n",
      "\n"
     ]
    }
   ],
   "source": [
    "#Getting maximum number of cases per each month by casesPer100k *  totalpopulation/100k\n",
    "data_result_5 = data_new.groupBy(\"year\", \"month\")\\\n",
    "                        .agg(fn.sum(\"dailyCases\").alias(\"monthlyTotalCases\"))\\\n",
    "                        .orderBy(\"monthlyTotalCases\", ascending = False)\\\n",
    "                        .na.drop()\n",
    "\n",
    "data_result_5.show()"
   ]
  },
  {
   "cell_type": "code",
   "execution_count": 20,
   "metadata": {},
   "outputs": [
    {
     "name": "stdout",
     "output_type": "stream",
     "text": [
      "+----+-----+-------------+\n",
      "|year|month|monthlyDeaths|\n",
      "+----+-----+-------------+\n",
      "|2020|    4|       189241|\n",
      "|2020|    7|       161539|\n",
      "|2020|    5|       141737|\n",
      "|2020|    6|       135820|\n",
      "|2020|    3|        35599|\n",
      "|2020|    2|         2708|\n",
      "|2020|    1|          213|\n",
      "|2019|   12|            0|\n",
      "+----+-----+-------------+\n",
      "\n"
     ]
    }
   ],
   "source": [
    "#Month where maximum deaths happened\n",
    "data_result_6 = data_new.groupBy(\"year\", \"month\")\\\n",
    "                        .agg(fn.sum(\"deaths\").alias(\"monthlyDeaths\"))\\\n",
    "                        .orderBy(\"monthlyDeaths\", ascending = False)\\\n",
    "                        .na.drop()\n",
    "\n",
    "data_result_6.show()"
   ]
  },
  {
   "cell_type": "code",
   "execution_count": 21,
   "metadata": {},
   "outputs": [
    {
     "name": "stdout",
     "output_type": "stream",
     "text": [
      "+-----------+-----+----+------------+----+\n",
      "|country    |month|year|monthlyCases|Rank|\n",
      "+-----------+-----+----+------------+----+\n",
      "|Afghanistan|6    |2020|26280       |1   |\n",
      "|Afghanistan|5    |2020|12659       |2   |\n",
      "|Afghanistan|7    |2020|9430        |3   |\n",
      "|Albania    |7    |2020|3328        |1   |\n",
      "|Albania    |6    |2020|1438        |2   |\n",
      "|Albania    |4    |2020|710         |3   |\n",
      "|Algeria    |7    |2020|18333       |1   |\n",
      "|Algeria    |5    |2020|7244        |2   |\n",
      "|Algeria    |6    |2020|5508        |3   |\n",
      "|Andorra    |4    |2020|757         |1   |\n",
      "|Andorra    |3    |2020|145         |2   |\n",
      "|Andorra    |6    |2020|116         |3   |\n",
      "|Angola     |7    |2020|838         |1   |\n",
      "|Angola     |6    |2020|168         |2   |\n",
      "|Angola     |5    |2020|35          |3   |\n",
      "+-----------+-----+----+------------+----+\n",
      "only showing top 15 rows\n",
      "\n"
     ]
    }
   ],
   "source": [
    "#Peak month cases for each country\n",
    "data_temp_7_1 = data_new.groupBy(\"country\", \"month\", \"year\")\\\n",
    "                            .agg(fn.sum(\"dailyCases\").alias(\"monthlyCases\"))\n",
    "\n",
    "data_temp_7_2 = data_temp_7_1.na.drop()\n",
    "\n",
    "window = Window.partitionBy(\"country\").orderBy(fn.desc(\"monthlyCases\"))\n",
    "\n",
    "data_result_7 = data_temp_7_2.withColumn(\"Rank\", fn.rank().over(window))\\\n",
    "                             .where(\"rank <= 3\")\\\n",
    "                             .orderBy(\"country\", \"rank\")\n",
    "\n",
    "data_result_7.show(15, False)"
   ]
  },
  {
   "cell_type": "markdown",
   "metadata": {},
   "source": [
    "### Persisting Output Results"
   ]
  },
  {
   "cell_type": "code",
   "execution_count": 22,
   "metadata": {},
   "outputs": [],
   "source": [
    "#Persisting all the generated results in a csv file\n",
    "data_result_1.write.csv(\"output/data_result_1.csv\",mode = \"overwrite\", header = True)\n",
    "data_result_2.write.csv(\"output/data_result_2.csv\",mode = \"overwrite\", header = True)\n",
    "data_result_3.write.csv(\"output/data_result_3.csv\",mode = \"overwrite\", header = True)\n",
    "data_result_4.write.csv(\"output/data_result_4.csv\",mode = \"overwrite\", header = True)\n",
    "data_result_5.write.csv(\"output/data_result_5.csv\",mode = \"overwrite\", header = True)\n",
    "data_result_6.write.csv(\"output/data_result_6.csv\",mode = \"overwrite\", header = True)\n",
    "data_result_7.write.csv(\"output/data_result_7.csv\",mode = \"overwrite\", header = True)"
   ]
  },
  {
   "cell_type": "markdown",
   "metadata": {},
   "source": [
    "### Future Prediction"
   ]
  },
  {
   "cell_type": "code",
   "execution_count": 23,
   "metadata": {},
   "outputs": [],
   "source": [
    "#Getting only columns needed for Forecast\n",
    "start = timer()\n",
    "data_input = data_new.select(\"country\", fn.col(\"date\").cast(\"TimeStamp\").alias(\"ds\"), \n",
    "                            fn.col(\"dailyCases\").alias(\"y\"))"
   ]
  },
  {
   "cell_type": "code",
   "execution_count": 24,
   "metadata": {},
   "outputs": [],
   "source": [
    "#Declaring schema for Pandas UDF function\n",
    "schema = StructType([\n",
    "        StructField(\"country\", StringType(), True),\n",
    "        StructField(\"ds\", TimestampType(), True),\n",
    "        StructField(\"y\", IntegerType(), True)\n",
    "    ])"
   ]
  },
  {
   "cell_type": "code",
   "execution_count": 25,
   "metadata": {},
   "outputs": [],
   "source": [
    "#Making a Pandas UDF function which will be called from Spark Dataframe\n",
    "#This function will generate forecast for each country\n",
    "@pandas_udf(returnType = schema, functionType = PandasUDFType.GROUPED_MAP)\n",
    "def forecast_store_item(input_pd):\n",
    "\n",
    "    #Initializing Prophet model with appropriate Parameters\n",
    "    model = Prophet(\n",
    "        interval_width=0.5,\n",
    "        growth='linear',\n",
    "        daily_seasonality=False,\n",
    "        weekly_seasonality=True,\n",
    "        yearly_seasonality=True,\n",
    "        seasonality_mode='multiplicative'\n",
    "    )\n",
    "    \n",
    "    # Training our model with data\n",
    "    model.fit(input_pd)\n",
    "\n",
    "    #Generating future data using 'make_future_dataframe' function of Prophet model\n",
    "    future_pd = model.make_future_dataframe(\n",
    "        periods=90,\n",
    "        freq='d',\n",
    "        include_history=False\n",
    "    )\n",
    "\n",
    "    #Predicting data for next 90 days and selecting only needful columns\n",
    "    forecast_pd = model.predict(future_pd)[[\"ds\", \"yhat\"]]\n",
    "    \n",
    "    #renaming columns as per need\n",
    "    result_pd = forecast_pd[[\"ds\",\"yhat\"]].rename(columns = {'yhat':'y'})\n",
    "    \n",
    "    #getting the name of country for which function is called\n",
    "    country = input_pd.values.tolist()[0][0]\n",
    "    \n",
    "    #generating country column in predicted Dataframe with value as generated country name\n",
    "    result_pd[\"country\"] = country\n",
    "    \n",
    "    #Finally unioning both(historical data, predicted data) the dataframes to form final dataframe\n",
    "    final_pd = pd.concat([input_pd, result_pd])\n",
    "    \n",
    "    \n",
    "    #returning final dataframe\n",
    "    return final_pd"
   ]
  },
  {
   "cell_type": "code",
   "execution_count": 26,
   "metadata": {},
   "outputs": [],
   "source": [
    "#Grouping the data data by country, so pandas_udf will be called for each country \n",
    "#So, model training will be ran in parallel for each country\n",
    "#Pandas UDF will be called country wise, so each call will contain data for only one country\n",
    "results = data_input.na.drop()\\\n",
    "            .groupBy('country')\\\n",
    "            .apply(forecast_store_item)"
   ]
  },
  {
   "cell_type": "code",
   "execution_count": 27,
   "metadata": {},
   "outputs": [],
   "source": [
    "#Getting sample data from results which contains data for a particular country and last 30 days to future 7 days\n",
    "results_sample = results.where(\"country == 'Italy' and ds between DATE_ADD(now(), -30) and DATE_ADD(now(), 7)\")"
   ]
  },
  {
   "cell_type": "code",
   "execution_count": 28,
   "metadata": {},
   "outputs": [
    {
     "data": {
      "image/png": "[encoded data removed]",
      "text/plain": [
       "<Figure size 432x288 with 1 Axes>"
      ]
     },
     "metadata": {
      "needs_background": "light"
     },
     "output_type": "display_data"
    }
   ],
   "source": [
    "#Visualizing the data\n",
    "results_pd = results_sample.toPandas()\n",
    "\n",
    "plt.plot(results_pd[\"ds\"], results_pd[\"y\"], \"ro\")\n",
    "plt.gcf().autofmt_xdate()\n",
    "plt.xlabel(\"Date\")\n",
    "plt.ylabel(\"Cases\")\n",
    "plt.title(\"Country Level Data Forecasting\")\n",
    "plt.savefig(\"output/Chart4.png\")\n",
    "plt.show()"
   ]
  },
  {
   "cell_type": "code",
   "execution_count": 29,
   "metadata": {},
   "outputs": [
    {
     "name": "stdout",
     "output_type": "stream",
     "text": [
      "1215.8692357259997\n"
     ]
    }
   ],
   "source": [
    "#Persisting the results in a csv file\n",
    "#results.write.csv(\"output/forecast.csv\", mode = \"overwrite\", header = True)\n",
    "\n",
    "#If only one csv file is to be generated, coalesce will reduce number of partitions to 1\n",
    "results.coalesce(1).write.csv(\"output/forecast.csv\", mode = \"overwrite\", header = True) \n",
    "end = timer()\n",
    "print(end - start)"
   ]
  },
  {
   "cell_type": "markdown",
   "metadata": {},
   "source": [
    "### Applying Random Forest on Dataset"
   ]
  },
  {
   "cell_type": "code",
   "execution_count": 30,
   "metadata": {},
   "outputs": [],
   "source": [
    "#Selecting necessary columns for Machine Learning model\n",
    "data_ml = data_new.select(\"day\", \"month\", \"year\", \"country\", \"totalPopulation\",\"cases\")"
   ]
  },
  {
   "cell_type": "code",
   "execution_count": 31,
   "metadata": {},
   "outputs": [],
   "source": [
    "#As country column is in String format, we have to convert it to numeric form\n",
    "#So, firstly we will index the country column\n",
    "start = timer()\n",
    "stringIndexer = StringIndexer(inputCol=\"country\", outputCol=\"country_index\")\n",
    "indexedDF = stringIndexer.fit(data_ml).transform(data_ml)"
   ]
  },
  {
   "cell_type": "code",
   "execution_count": 32,
   "metadata": {},
   "outputs": [],
   "source": [
    "#Now the indexed country column will be encoded using One Hot Encoder\n",
    "oneHotEncoder = OneHotEncoderEstimator(inputCols = [\"country_index\"], outputCols = [\"country_vector\"])\n",
    "processedDF = oneHotEncoder.fit(indexedDF).transform(indexedDF)"
   ]
  },
  {
   "cell_type": "code",
   "execution_count": 33,
   "metadata": {},
   "outputs": [],
   "source": [
    "#Taking feature columns in a list\n",
    "featureCols = processedDF.drop(\"cases\",\"country\").columns"
   ]
  },
  {
   "cell_type": "code",
   "execution_count": 34,
   "metadata": {},
   "outputs": [],
   "source": [
    "#As Spark takes only one column as input, we will merge all columns in one column using Vector Assembler\n",
    "assembler = VectorAssembler()\\\n",
    "              .setInputCols(featureCols)\\\n",
    "              .setOutputCol(\"features\")\n",
    "\n",
    "finalDF = assembler.setHandleInvalid(\"skip\").transform(processedDF)"
   ]
  },
  {
   "cell_type": "code",
   "execution_count": 35,
   "metadata": {},
   "outputs": [],
   "source": [
    "#Splitting the data in training and testing sets\n",
    "training, test = finalDF.randomSplit([0.8, 0.2])"
   ]
  },
  {
   "cell_type": "code",
   "execution_count": 36,
   "metadata": {},
   "outputs": [],
   "source": [
    "#Initializing Random Forest Model\n",
    "rfModel = RandomForestRegressor()\\\n",
    "            .setLabelCol(\"cases\")\\\n",
    "            .setFeaturesCol(\"features\")"
   ]
  },
  {
   "cell_type": "code",
   "execution_count": 37,
   "metadata": {},
   "outputs": [],
   "source": [
    "#Initializing Parameter Grid with appropriate features for Hyper Parameter Tuning\n",
    "paramGrid = ParamGridBuilder()\\\n",
    "                  .addGrid(rfModel.maxDepth, [20, 30])\\\n",
    "                  .addGrid(rfModel.numTrees, [10, 30])\\\n",
    "                  .addGrid(rfModel.maxBins, [250, 350])\\\n",
    "                  .build()"
   ]
  },
  {
   "cell_type": "code",
   "execution_count": 38,
   "metadata": {},
   "outputs": [],
   "source": [
    "#Initializing Cross Valitor Model to train our parameterized Random Forest Model\n",
    "cv = CrossValidator()\\\n",
    "          .setEstimator(rfModel)\\\n",
    "          .setEstimatorParamMaps(paramGrid)\\\n",
    "          .setEvaluator(RegressionEvaluator().setLabelCol(\"cases\"))"
   ]
  },
  {
   "cell_type": "code",
   "execution_count": 39,
   "metadata": {},
   "outputs": [],
   "source": [
    "#Training our final model\n",
    "rfFitted = cv.fit(training)"
   ]
  },
  {
   "cell_type": "code",
   "execution_count": 40,
   "metadata": {},
   "outputs": [],
   "source": [
    "#Generating predictions from test dataset\n",
    "predictions = rfFitted.transform(test)"
   ]
  },
  {
   "cell_type": "code",
   "execution_count": 41,
   "metadata": {},
   "outputs": [
    {
     "name": "stdout",
     "output_type": "stream",
     "text": [
      "Root Mean Squared Error (RMSE) on test data = 1312.72\n",
      "1275.1401337060006\n"
     ]
    }
   ],
   "source": [
    "#Evaluating our Random Forest Model\n",
    "evaluator = RegressionEvaluator(\n",
    "                labelCol=\"cases\", predictionCol=\"prediction\", metricName=\"rmse\")\n",
    "\n",
    "rmse = evaluator.evaluate(predictions)\n",
    "print(\"Root Mean Squared Error (RMSE) on test data = %g\" % rmse)\n",
    "\n",
    "end = timer()\n",
    "print(end-start)"
   ]
  },
  {
   "cell_type": "code",
   "execution_count": 42,
   "metadata": {
    "collapsed": true
   },
   "outputs": [
    {
     "name": "stdout",
     "output_type": "stream",
     "text": [
      "+---+-----+----+-------+---------------+-----+-------------+----------------+--------------------+------------------+\n",
      "|day|month|year|country|totalPopulation|cases|country_index|  country_vector|            features|        prediction|\n",
      "+---+-----+----+-------+---------------+-----+-------------+----------------+--------------------+------------------+\n",
      "|  1|    2|2020|Germany|       83019213|    2|         23.0|(209,[23],[1.0])|(214,[0,1,2,3,4,2...| 138.7239944233705|\n",
      "|  2|    7|2020|Germany|       83019213|  503|         23.0|(209,[23],[1.0])|(214,[0,1,2,3,4,2...| 677.1145769398082|\n",
      "|  3|    5|2020|Germany|       83019213|  793|         23.0|(209,[23],[1.0])|(214,[0,1,2,3,4,2...| 1025.411654758173|\n",
      "|  4|    2|2020|Germany|       83019213|    2|         23.0|(209,[23],[1.0])|(214,[0,1,2,3,4,2...| 138.5942403610077|\n",
      "|  4|    6|2020|Germany|       83019213|  394|         23.0|(209,[23],[1.0])|(214,[0,1,2,3,4,2...| 607.4233752832592|\n",
      "|  5|    1|2020|Germany|       83019213|    0|         23.0|(209,[23],[1.0])|(214,[0,1,2,3,4,2...|137.30709974279293|\n",
      "|  5|    3|2020|Germany|       83019213|   66|         23.0|(209,[23],[1.0])|(214,[0,1,2,3,4,2...|1342.3335928983756|\n",
      "|  7|    5|2020|Germany|       83019213| 1194|         23.0|(209,[23],[1.0])|(214,[0,1,2,3,4,2...| 955.7505436470619|\n",
      "|  7|    7|2020|Germany|       83019213|  390|         23.0|(209,[23],[1.0])|(214,[0,1,2,3,4,2...| 591.8896880509191|\n",
      "|  8|    2|2020|Germany|       83019213|    1|         23.0|(209,[23],[1.0])|(214,[0,1,2,3,4,2...| 137.4513456241656|\n",
      "|  8|    4|2020|Germany|       83019213| 4003|         23.0|(209,[23],[1.0])|(214,[0,1,2,3,4,2...|2805.4368833192198|\n",
      "|  8|    6|2020|Germany|       83019213|  214|         23.0|(209,[23],[1.0])|(214,[0,1,2,3,4,2...| 628.7676145700007|\n",
      "|  9|    2|2020|Germany|       83019213|    0|         23.0|(209,[23],[1.0])|(214,[0,1,2,3,4,2...| 137.2735678463878|\n",
      "|  9|    6|2020|Germany|       83019213|  350|         23.0|(209,[23],[1.0])|(214,[0,1,2,3,4,2...| 626.1468862786842|\n",
      "|  9|    7|2020|Germany|       83019213|  442|         23.0|(209,[23],[1.0])|(214,[0,1,2,3,4,2...| 599.9340990784881|\n",
      "| 11|    1|2020|Germany|       83019213|    0|         23.0|(209,[23],[1.0])|(214,[0,1,2,3,4,2...|105.93602597995445|\n",
      "| 12|    4|2020|Germany|       83019213| 2821|         23.0|(209,[23],[1.0])|(214,[0,1,2,3,4,2...| 2493.141060160333|\n",
      "| 12|    7|2020|Germany|       83019213|  248|         23.0|(209,[23],[1.0])|(214,[0,1,2,3,4,2...| 591.8943163471047|\n",
      "| 14|    1|2020|Germany|       83019213|    0|         23.0|(209,[23],[1.0])|(214,[0,1,2,3,4,2...|105.91991486884335|\n",
      "| 14|    4|2020|Germany|       83019213| 2082|         23.0|(209,[23],[1.0])|(214,[0,1,2,3,4,2...| 2396.721718596547|\n",
      "+---+-----+----+-------+---------------+-----+-------------+----------------+--------------------+------------------+\n",
      "only showing top 20 rows\n",
      "\n"
     ]
    }
   ],
   "source": [
    "#Visualizing the predicted data\n",
    "predictions.where(\"country == 'Germany'\").show()"
   ]
  },
  {
   "cell_type": "code",
   "execution_count": 46,
   "metadata": {},
   "outputs": [],
   "source": [
    "#Persisting predictions data in csv files\n",
    "predictions.drop(\"country_vector\", \"features\").coalesce(1).write.csv(\"output/predictions.csv\", mode = \"overwrite\", header = True) "
   ]
  }
 ],
 "metadata": {
  "kernelspec": {
   "display_name": "Python 3",
   "language": "python",
   "name": "python3"
  },
  "language_info": {
   "codemirror_mode": {
    "name": "ipython",
    "version": 3
   },
   "file_extension": ".py",
   "mimetype": "text/x-python",
   "name": "python",
   "nbconvert_exporter": "python",
   "pygments_lexer": "ipython3",
   "version": "3.6.9"
  }
 },
 "nbformat": 4,
 "nbformat_minor": 2
}
